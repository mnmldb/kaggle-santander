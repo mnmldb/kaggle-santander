{
 "cells": [
  {
   "cell_type": "markdown",
   "metadata": {},
   "source": [
    "https://www.kaggle.com/yag320/list-of-fake-samples-and-public-private-lb-split"
   ]
  },
  {
   "cell_type": "code",
   "execution_count": 2,
   "metadata": {},
   "outputs": [
    {
     "name": "stdout",
     "output_type": "stream",
     "text": [
      "['test.csv', 'FI.png', 'train.csv', 'sample_submission.csv']\n"
     ]
    }
   ],
   "source": [
    "# This Python 3 environment comes with many helpful analytics libraries installed\n",
    "# It is defined by the kaggle/python docker image: https://github.com/kaggle/docker-python\n",
    "# For example, here's several helpful packages to load in \n",
    "\n",
    "import numpy as np # linear algebra\n",
    "import pandas as pd # data processing, CSV file I/O (e.g. pd.read_csv)\n",
    "from tqdm import tqdm_notebook as tqdm\n",
    "# Input data files are available in the \"../input/\" directory.\n",
    "# For example, running this (by clicking run or pressing Shift+Enter) will list the files in the input directory\n",
    "\n",
    "import os\n",
    "print(os.listdir(\"../input\"))\n",
    "\n",
    "# Any results you write to the current directory are saved as output."
   ]
  },
  {
   "cell_type": "code",
   "execution_count": 3,
   "metadata": {},
   "outputs": [],
   "source": [
    "test_path = '../input/test.csv'\n",
    "\n",
    "df_test = pd.read_csv(test_path)\n",
    "df_test.drop(['ID_code'], axis=1, inplace=True)\n",
    "df_test = df_test.values"
   ]
  },
  {
   "cell_type": "code",
   "execution_count": 33,
   "metadata": {},
   "outputs": [],
   "source": [
    "unique_samples = []\n",
    "unique_count = np.zeros_like(df_test) #equal to np.zeros(df_test.shape)"
   ]
  },
  {
   "cell_type": "code",
   "execution_count": 34,
   "metadata": {},
   "outputs": [
    {
     "name": "stdout",
     "output_type": "stream",
     "text": [
      "(200000, 200)\n",
      "(200000, 200)\n",
      "200\n"
     ]
    }
   ],
   "source": [
    "print(df_test.shape)\n",
    "print(unique_count.shape)\n",
    "print(df_test.shape[1])"
   ]
  },
  {
   "cell_type": "code",
   "execution_count": 17,
   "metadata": {},
   "outputs": [
    {
     "name": "stdout",
     "output_type": "stream",
     "text": [
      "[ 0.1887  0.922   0.9302 ... 20.0649 20.7879 22.3234]\n",
      "(65580,)\n"
     ]
    }
   ],
   "source": [
    "#np.unique\n",
    "test_index = 0\n",
    "print(np.unique(df_test[:,test_index]))\n",
    "print(np.unique(df_test[:,test_index]).shape)"
   ]
  },
  {
   "cell_type": "code",
   "execution_count": 16,
   "metadata": {},
   "outputs": [
    {
     "name": "stdout",
     "output_type": "stream",
     "text": [
      "(array([ 0.1887,  0.922 ,  0.9302, ..., 20.0649, 20.7879, 22.3234]), array([ 14030, 119481, 194633, ...,    148,  71176,  12478]), array([2, 2, 1, ..., 3, 1, 3]))\n",
      "(65580,)\n",
      "(65580,)\n",
      "(65580,)\n"
     ]
    }
   ],
   "source": [
    "#np.unique with count and index\n",
    "print(np.unique(df_test[:,test_index], return_counts=True, return_index=True))\n",
    "print(np.unique(df_test[:,test_index], return_counts=True, return_index=True)[0].shape)\n",
    "print(np.unique(df_test[:,test_index], return_counts=True, return_index=True)[1].shape)\n",
    "print(np.unique(df_test[:,test_index], return_counts=True, return_index=True)[2].shape)"
   ]
  },
  {
   "cell_type": "code",
   "execution_count": 35,
   "metadata": {},
   "outputs": [
    {
     "data": {
      "application/vnd.jupyter.widget-view+json": {
       "model_id": "83d2b216e8f3414abf97636dc4b36532",
       "version_major": 2,
       "version_minor": 0
      },
      "text/plain": [
       "HBox(children=(IntProgress(value=0, max=200), HTML(value='')))"
      ]
     },
     "metadata": {},
     "output_type": "display_data"
    },
    {
     "name": "stdout",
     "output_type": "stream",
     "text": [
      "\n"
     ]
    }
   ],
   "source": [
    "for feature in tqdm(range(df_test.shape[1])):\n",
    "    _, index_, count_ = np.unique(df_test[:, feature], return_counts=True, return_index=True)\n",
    "    unique_count[index_[count_ == 1], feature] += 1\n",
    "\n",
    "#np.countの返り値の１つ目は使用しないため、_という変数名で使用しないことを明示している\n",
    "#index_, count_はindex, countとは異なる変数であることを明示するため、末尾にアンダースコアをつけている"
   ]
  },
  {
   "cell_type": "code",
   "execution_count": 36,
   "metadata": {},
   "outputs": [
    {
     "data": {
      "text/plain": [
       "array([ 0.,  0.,  0., 40.,  0.,  0.,  0., 31.,  0.,  0.])"
      ]
     },
     "execution_count": 36,
     "metadata": {},
     "output_type": "execute_result"
    }
   ],
   "source": [
    "unique_count.sum(axis=1)[0:10]"
   ]
  },
  {
   "cell_type": "code",
   "execution_count": 37,
   "metadata": {},
   "outputs": [],
   "source": [
    "# Samples which have unique values are real the others are fake\n",
    "real_samples_indexes = np.argwhere(np.sum(unique_count, axis=1) > 0)[:, 0]\n",
    "synthetic_samples_indexes = np.argwhere(np.sum(unique_count, axis=1) == 0)[:, 0]\n",
    "\n",
    "#np.argwhere returns no zero indexes"
   ]
  },
  {
   "cell_type": "code",
   "execution_count": 38,
   "metadata": {},
   "outputs": [
    {
     "name": "stdout",
     "output_type": "stream",
     "text": [
      "100000\n",
      "100000\n"
     ]
    }
   ],
   "source": [
    "print(len(real_samples_indexes))\n",
    "print(len(synthetic_samples_indexes))"
   ]
  },
  {
   "cell_type": "code",
   "execution_count": 40,
   "metadata": {},
   "outputs": [
    {
     "name": "stdout",
     "output_type": "stream",
     "text": [
      "(100000, 200)\n"
     ]
    }
   ],
   "source": [
    "df_test_real = df_test[real_samples_indexes].copy()\n",
    "print(df_test_real.shape)"
   ]
  },
  {
   "cell_type": "code",
   "execution_count": 41,
   "metadata": {},
   "outputs": [],
   "source": [
    "generator_for_each_synthetic_sample = []"
   ]
  },
  {
   "cell_type": "code",
   "execution_count": 42,
   "metadata": {},
   "outputs": [
    {
     "data": {
      "application/vnd.jupyter.widget-view+json": {
       "model_id": "ef32412724604dd281a796a2e178b61b",
       "version_major": 2,
       "version_minor": 0
      },
      "text/plain": [
       "HBox(children=(IntProgress(value=0, max=20000), HTML(value='')))"
      ]
     },
     "metadata": {},
     "output_type": "display_data"
    },
    {
     "name": "stdout",
     "output_type": "stream",
     "text": [
      "\n"
     ]
    }
   ],
   "source": [
    "# Using 20,000 samples should be enough. \n",
    "# You can use all of the 100,000 and get the same results (but 5 times slower)\n",
    "for cur_sample_index in tqdm(synthetic_samples_indexes[:20000]):\n",
    "    cur_synthetic_sample = df_test[cur_sample_index]\n",
    "    potential_generators = df_test_real == cur_synthetic_sample\n",
    "\n",
    "    # A verified generator for a synthetic sample is achieved\n",
    "    # only if the value of a feature appears only once in the\n",
    "    # entire real samples set\n",
    "    features_mask = np.sum(potential_generators, axis=0) == 1\n",
    "    verified_generators_mask = np.any(potential_generators[:, features_mask], axis=1)\n",
    "    verified_generators_for_sample = real_samples_indexes[np.argwhere(verified_generators_mask)[:, 0]]\n",
    "    generator_for_each_synthetic_sample.append(set(verified_generators_for_sample))"
   ]
  },
  {
   "cell_type": "code",
   "execution_count": 43,
   "metadata": {},
   "outputs": [
    {
     "data": {
      "application/vnd.jupyter.widget-view+json": {
       "model_id": "15390396192c47289e5f3c85e2a01c90",
       "version_major": 2,
       "version_minor": 0
      },
      "text/plain": [
       "HBox(children=(IntProgress(value=0, max=20000), HTML(value='')))"
      ]
     },
     "metadata": {},
     "output_type": "display_data"
    },
    {
     "name": "stdout",
     "output_type": "stream",
     "text": [
      "\n"
     ]
    },
    {
     "data": {
      "application/vnd.jupyter.widget-view+json": {
       "model_id": "bb5954fdc4f54a218f23c9d22ee9f2ca",
       "version_major": 2,
       "version_minor": 0
      },
      "text/plain": [
       "HBox(children=(IntProgress(value=0, max=20000), HTML(value='')))"
      ]
     },
     "metadata": {},
     "output_type": "display_data"
    },
    {
     "name": "stdout",
     "output_type": "stream",
     "text": [
      "\n",
      "50000\n",
      "50000\n"
     ]
    }
   ],
   "source": [
    "public_LB = generator_for_each_synthetic_sample[0]\n",
    "for x in tqdm(generator_for_each_synthetic_sample):\n",
    "    if public_LB.intersection(x):\n",
    "        public_LB = public_LB.union(x)\n",
    "\n",
    "private_LB = generator_for_each_synthetic_sample[1]\n",
    "for x in tqdm(generator_for_each_synthetic_sample):\n",
    "    if private_LB.intersection(x):\n",
    "        private_LB = private_LB.union(x)\n",
    "        \n",
    "print(len(public_LB))\n",
    "print(len(private_LB))"
   ]
  },
  {
   "cell_type": "code",
   "execution_count": 44,
   "metadata": {},
   "outputs": [],
   "source": [
    "np.save('public_LB', list(public_LB))\n",
    "np.save('private_LB', list(private_LB))\n",
    "np.save('synthetic_samples_indexes', list(synthetic_samples_indexes))"
   ]
  },
  {
   "cell_type": "code",
   "execution_count": null,
   "metadata": {},
   "outputs": [],
   "source": []
  }
 ],
 "metadata": {
  "kernelspec": {
   "display_name": "Python 3",
   "language": "python",
   "name": "python3"
  },
  "language_info": {
   "codemirror_mode": {
    "name": "ipython",
    "version": 3
   },
   "file_extension": ".py",
   "mimetype": "text/x-python",
   "name": "python",
   "nbconvert_exporter": "python",
   "pygments_lexer": "ipython3",
   "version": "3.6.5"
  }
 },
 "nbformat": 4,
 "nbformat_minor": 2
}
